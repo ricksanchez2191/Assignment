{
 "cells": [
  {
   "cell_type": "markdown",
   "id": "80e87d70",
   "metadata": {},
   "source": [
    "**Data Science Tools Ecosystem**"
   ]
  },
  {
   "cell_type": "markdown",
   "id": "1b17822d",
   "metadata": {},
   "source": [
    "A summary of Data Science Tools and Ecosystem will be shared in this notebook alongwith following information.\n",
    "\n",
    " - Names of popular languages that are used by Data Scientists\n",
    " - Libraries used by Data Scientists for Data Analysis and Visualization\n",
    " - Names of Data Science science tools"
   ]
  },
  {
   "cell_type": "markdown",
   "id": "32d670ed",
   "metadata": {},
   "source": [
    "Some of the popular languages that Data Scientists use are:\n",
    "\n",
    "- Python\n",
    "- R\n",
    "- SQL\n",
    "- Java\n",
    "- Julia\n",
    "- Scala\n",
    "- C/C++\n",
    "- JavaScript\n",
    "- MATLAB"
   ]
  },
  {
   "cell_type": "markdown",
   "id": "a1ef6053",
   "metadata": {},
   "source": [
    "Some of the commonly used libraries used by Data Scientists include:\n",
    "\n",
    "- NumPy \n",
    "- SciPy\n",
    "- Pandas\n",
    "- Seaborn\n",
    "- TensorFlow\n",
    "- SciKit-Learn\n",
    "- Matplotlib\n",
    "- Keras\n",
    "- PyTorch"
   ]
  },
  {
   "cell_type": "markdown",
   "id": "5348f09d",
   "metadata": {},
   "source": [
    "| **Data Science Tools** |\n",
    "| --- | \n",
    "| SAS (specifically designed for statistical operation) |\n",
    "| Apache Spark |\n",
    "| BigML |"
   ]
  },
  {
   "cell_type": "markdown",
   "id": "e4ccda26",
   "metadata": {},
   "source": [
    "**Arithmetic expression examples**"
   ]
  },
  {
   "cell_type": "code",
   "execution_count": 7,
   "id": "02da54cf",
   "metadata": {},
   "outputs": [
    {
     "name": "stdout",
     "output_type": "stream",
     "text": [
      "17\n",
      "60\n"
     ]
    }
   ],
   "source": [
    "#Examples of Arithmetic expressions is \n",
    "\n",
    "a = 15+(8-6)\n",
    "\n",
    "\n",
    "b = 15*(8/2)\n",
    "\n",
    "print(a)\n",
    "print(int(b))"
   ]
  },
  {
   "cell_type": "markdown",
   "id": "f888ca6b",
   "metadata": {},
   "source": [
    "**Multiply and add numbers**"
   ]
  },
  {
   "cell_type": "code",
   "execution_count": 9,
   "id": "53f1a05f",
   "metadata": {},
   "outputs": [
    {
     "name": "stdout",
     "output_type": "stream",
     "text": [
      "17\n",
      "150\n"
     ]
    }
   ],
   "source": [
    "#Examples of Arithmetic expressions is \n",
    "\n",
    "c = 15+(8-6)\n",
    "\n",
    "d = 15*(8+2)\n",
    "\n",
    "print(c)\n",
    "print(int(d))"
   ]
  },
  {
   "cell_type": "markdown",
   "id": "bcb0b85d",
   "metadata": {},
   "source": [
    "**Converting minutes to hours**"
   ]
  },
  {
   "cell_type": "code",
   "execution_count": 67,
   "id": "3f2e243c",
   "metadata": {},
   "outputs": [
    {
     "name": "stdout",
     "output_type": "stream",
     "text": [
      "1.0 days, 23.0 hours, 57 mins. \n"
     ]
    }
   ],
   "source": [
    "t = 2877\n",
    "\n",
    "#One day has 1440 minutes so remainder minutes in 860 minutes need to be calculated using modulus opeartor\n",
    "seg =  t % 1440\n",
    "days = (t-seg) / 1440\n",
    "\n",
    "\n",
    "hours = (seg - (seg % 60))/60\n",
    "\n",
    "minutes = seg % 60\n",
    "\n",
    "\n",
    "print(str(days) + \" days, \" + str(hours) + \" hours, \" + str(minutes) +  \" mins. \")\n",
    "\n"
   ]
  },
  {
   "cell_type": "markdown",
   "id": "2f3ea228",
   "metadata": {},
   "source": [
    "**Objectives**"
   ]
  },
  {
   "cell_type": "markdown",
   "id": "4c2ec70a",
   "metadata": {},
   "source": [
    " - Names of popular languages that are used by Data Scientists\n",
    " - Libraries used by Data Scientists for Data Analysis and Visualization\n",
    " - Names of Data Science science tools\n",
    " - Using various arithmetic opeartions in excel"
   ]
  },
  {
   "cell_type": "markdown",
   "id": "22442dde",
   "metadata": {},
   "source": [
    "- F.H."
   ]
  }
 ],
 "metadata": {
  "kernelspec": {
   "display_name": "Python 3 (ipykernel)",
   "language": "python",
   "name": "python3"
  },
  "language_info": {
   "codemirror_mode": {
    "name": "ipython",
    "version": 3
   },
   "file_extension": ".py",
   "mimetype": "text/x-python",
   "name": "python",
   "nbconvert_exporter": "python",
   "pygments_lexer": "ipython3",
   "version": "3.11.4"
  }
 },
 "nbformat": 4,
 "nbformat_minor": 5
}
