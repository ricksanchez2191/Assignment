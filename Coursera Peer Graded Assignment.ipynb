{
 "cells": [
  {
   "cell_type": "markdown",
   "id": "ce92c9d4",
   "metadata": {},
   "source": [
    "**Data Science Tools Ecosystem**"
   ]
  },
  {
   "cell_type": "markdown",
   "id": "cdccc1c4",
   "metadata": {},
   "source": [
    "A summary of Data Science Tools and Ecosystem will be shared in this notebook alongwith following information.\n",
    "\n",
    " - Names of popular languages that are used by Data Scientists\n",
    " - Libraries used by Data Scientists for Data Analysis and Visualization\n",
    " - Names of Data Science science tools"
   ]
  },
  {
   "cell_type": "markdown",
   "id": "a60655d4",
   "metadata": {},
   "source": [
    "Some of the popular languages that Data Scientists use are:\n",
    "\n",
    "- Python\n",
    "- R\n",
    "- SQL\n",
    "- Java\n",
    "- Julia\n",
    "- Scala\n",
    "- C/C++\n",
    "- JavaScript\n",
    "- MATLAB"
   ]
  },
  {
   "cell_type": "markdown",
   "id": "97d7d726",
   "metadata": {},
   "source": [
    "Some of the commonly used libraries used by Data Scientists include:\n",
    "\n",
    "- NumPy \n",
    "- SciPy\n",
    "- Pandas\n",
    "- Seaborn\n",
    "- TensorFlow\n",
    "- SciKit-Learn\n",
    "- Matplotlib\n",
    "- Keras\n",
    "- PyTorch"
   ]
  },
  {
   "cell_type": "markdown",
   "id": "30316c8f",
   "metadata": {},
   "source": [
    "| **Data Science Tools** |\n",
    "| --- | \n",
    "| SAS (specifically designed for statistical operation) |\n",
    "| Apache Spark |\n",
    "| BigML |"
   ]
  },
  {
   "cell_type": "markdown",
   "id": "3d2bc839",
   "metadata": {},
   "source": [
    "**Arithmetic expression examples**"
   ]
  },
  {
   "cell_type": "code",
   "execution_count": 7,
   "id": "998bc91b",
   "metadata": {},
   "outputs": [
    {
     "name": "stdout",
     "output_type": "stream",
     "text": [
      "17\n",
      "60\n"
     ]
    }
   ],
   "source": [
    "#Examples of Arithmetic expressions is \n",
    "\n",
    "a = 15+(8-6)\n",
    "\n",
    "\n",
    "b = 15*(8/2)\n",
    "\n",
    "print(a)\n",
    "print(int(b))"
   ]
  },
  {
   "cell_type": "markdown",
   "id": "b510331a",
   "metadata": {},
   "source": [
    "**Multiply and add numbers**"
   ]
  },
  {
   "cell_type": "code",
   "execution_count": 9,
   "id": "59643a74",
   "metadata": {},
   "outputs": [
    {
     "name": "stdout",
     "output_type": "stream",
     "text": [
      "17\n",
      "150\n"
     ]
    }
   ],
   "source": [
    "#Examples of Arithmetic expressions is \n",
    "\n",
    "c = 15+(8-6)\n",
    "\n",
    "d = 15*(8+2)\n",
    "\n",
    "print(c)\n",
    "print(int(d))"
   ]
  },
  {
   "cell_type": "markdown",
   "id": "577d2cac",
   "metadata": {},
   "source": [
    "**Converting minutes to hours**"
   ]
  },
  {
   "cell_type": "code",
   "execution_count": 67,
   "id": "55bc3d53",
   "metadata": {},
   "outputs": [
    {
     "name": "stdout",
     "output_type": "stream",
     "text": [
      "1.0 days, 23.0 hours, 57 mins. \n"
     ]
    }
   ],
   "source": [
    "t = 2877\n",
    "\n",
    "#One day has 1440 minutes so remainder minutes in 860 minutes need to be calculated using modulus opeartor\n",
    "seg =  t % 1440\n",
    "days = (t-seg) / 1440\n",
    "\n",
    "\n",
    "hours = (seg - (seg % 60))/60\n",
    "\n",
    "minutes = seg % 60\n",
    "\n",
    "\n",
    "print(str(days) + \" days, \" + str(hours) + \" hours, \" + str(minutes) +  \" mins. \")\n",
    "\n"
   ]
  },
  {
   "cell_type": "markdown",
   "id": "473df4f9",
   "metadata": {},
   "source": [
    "**Objectives**"
   ]
  },
  {
   "cell_type": "markdown",
   "id": "7920c686",
   "metadata": {},
   "source": [
    " - Names of popular languages that are used by Data Scientists\n",
    " - Libraries used by Data Scientists for Data Analysis and Visualization\n",
    " - Names of Data Science science tools\n",
    " - Using various arithmetic opeartions in excel"
   ]
  },
  {
   "cell_type": "markdown",
   "id": "52e78b74",
   "metadata": {},
   "source": [
    "- Farhan H."
   ]
  }
 ],
 "metadata": {
  "kernelspec": {
   "display_name": "Python 3 (ipykernel)",
   "language": "python",
   "name": "python3"
  },
  "language_info": {
   "codemirror_mode": {
    "name": "ipython",
    "version": 3
   },
   "file_extension": ".py",
   "mimetype": "text/x-python",
   "name": "python",
   "nbconvert_exporter": "python",
   "pygments_lexer": "ipython3",
   "version": "3.11.4"
  }
 },
 "nbformat": 4,
 "nbformat_minor": 5
}
